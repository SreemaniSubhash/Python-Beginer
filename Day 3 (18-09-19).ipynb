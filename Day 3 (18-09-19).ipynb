{
 "cells": [
  {
   "cell_type": "markdown",
   "metadata": {},
   "source": [
    "### Programming in strings\n"
   ]
  },
  {
   "cell_type": "code",
   "execution_count": 5,
   "metadata": {},
   "outputs": [
    {
     "name": "stdout",
     "output_type": "stream",
     "text": [
      "python <class 'str'>\n",
      "programming <class 'str'>\n",
      "A <class 'str'>\n",
      "123 <class 'str'>\n"
     ]
    }
   ],
   "source": [
    "s1 = 'python'\n",
    "s2 = \"programming\"\n",
    "s3 = 'A'\n",
    "s4 = '123'\n",
    "print(s1,end=' ')\n",
    "print(type(s1))\n",
    "print(s2,end=' ')\n",
    "print(type(s3))\n",
    "print(s3,end=' ')\n",
    "print(type(s3))\n",
    "print(s4,end=' ')\n",
    "print(type(s4))"
   ]
  },
  {
   "cell_type": "markdown",
   "metadata": {},
   "source": [
    "### String Slicing"
   ]
  },
  {
   "cell_type": "code",
   "execution_count": 14,
   "metadata": {},
   "outputs": [
    {
     "name": "stdout",
     "output_type": "stream",
     "text": [
      "p y\n",
      "6\n",
      "n\n",
      "n\n",
      "o\n",
      "o\n"
     ]
    }
   ],
   "source": [
    "s1 = 'python'\n",
    "print(s1[0],end=' ')       # accessing first char\n",
    "print(s1[1])               # accessing second char\n",
    "print(len(s1))             # length of the string\n",
    "print(s1[len(s1)-1])       # accessing last char\n",
    "print(s1[-1])              # anothe way to access last char\n",
    "print(s1[-2])\n",
    "print(s1[len(s1)-2])"
   ]
  },
  {
   "cell_type": "code",
   "execution_count": 15,
   "metadata": {},
   "outputs": [
    {
     "name": "stdout",
     "output_type": "stream",
     "text": [
      "py\n",
      "n\n",
      "hon\n",
      "tho\n",
      "ytho\n"
     ]
    }
   ],
   "source": [
    "print(s1[0:2])     # access the first two chars\n",
    "print(s1[-1:])     # access last two chars\n",
    "print(s1[3:])      # access chars from 3 to last\n",
    "print(s1[2:5])     # access chars from 2 to 5\n",
    "print(s1[1:-1])    # all numbers accepect first and last one"
   ]
  },
  {
   "cell_type": "code",
   "execution_count": 17,
   "metadata": {},
   "outputs": [
    {
     "data": {
      "text/plain": [
       "'nohtyp'"
      ]
     },
     "execution_count": 17,
     "metadata": {},
     "output_type": "execute_result"
    }
   ],
   "source": [
    "s1[-1::-1]     #reversing the string"
   ]
  },
  {
   "cell_type": "code",
   "execution_count": 18,
   "metadata": {},
   "outputs": [
    {
     "data": {
      "text/plain": [
       "'pto'"
      ]
     },
     "execution_count": 18,
     "metadata": {},
     "output_type": "execute_result"
    }
   ],
   "source": [
    "# accessing the characters in string alternate\n",
    "# python = p t o\n",
    "s1[::2]"
   ]
  },
  {
   "cell_type": "code",
   "execution_count": 19,
   "metadata": {},
   "outputs": [
    {
     "data": {
      "text/plain": [
       "'nhy'"
      ]
     },
     "execution_count": 19,
     "metadata": {},
     "output_type": "execute_result"
    }
   ],
   "source": [
    "# accessing the alternate chars in string in reverse direction\n",
    "s1[::-2]"
   ]
  },
  {
   "cell_type": "code",
   "execution_count": 21,
   "metadata": {},
   "outputs": [
    {
     "data": {
      "text/plain": [
       "'ph'"
      ]
     },
     "execution_count": 21,
     "metadata": {},
     "output_type": "execute_result"
    }
   ],
   "source": [
    "s1[::3]    # alt by 3 no's"
   ]
  },
  {
   "cell_type": "markdown",
   "metadata": {},
   "source": [
    "### Function with String Operators"
   ]
  },
  {
   "cell_type": "code",
   "execution_count": 23,
   "metadata": {},
   "outputs": [
    {
     "data": {
      "text/plain": [
       "'nohtyp'"
      ]
     },
     "execution_count": 23,
     "metadata": {},
     "output_type": "execute_result"
    }
   ],
   "source": [
    "# reverse the string\n",
    "\n",
    "def revString(s):\n",
    "    return s[-1::-1]\n",
    "revString('python')"
   ]
  },
  {
   "cell_type": "code",
   "execution_count": 28,
   "metadata": {},
   "outputs": [
    {
     "name": "stdout",
     "output_type": "stream",
     "text": [
      "enter namemadam\n",
      "True\n",
      "enter nameraju\n",
      "False\n"
     ]
    }
   ],
   "source": [
    "# palindrome or not\n",
    "\n",
    "def isPalindrome(s):\n",
    "    if s == s[-1::-1]:\n",
    "        return True\n",
    "    return False\n",
    "print(isPalindrome(input('enter name')))\n",
    "print(isPalindrome(input('enter name')))"
   ]
  },
  {
   "cell_type": "code",
   "execution_count": 30,
   "metadata": {},
   "outputs": [
    {
     "name": "stdout",
     "output_type": "stream",
     "text": [
      "enter stringPyThon\n",
      "P T "
     ]
    }
   ],
   "source": [
    "# func to print upper case chars\n",
    "# example : PyThon === P T\n",
    "\n",
    "# ASCII\n",
    "# A - Z : 65 - 90\n",
    "# a - z : 97 - 122\n",
    "# 0 - 9 : 48 - 57\n",
    "# space : 32\n",
    "\n",
    "def printUpper(s):\n",
    "    for i in range(len(s)):\n",
    "        if ord(s[i]) >= 65 and ord(s[i]) <= 90:\n",
    "            print(s[i],end=' ')\n",
    "    return\n",
    "printUpper(input('enter string'))"
   ]
  },
  {
   "cell_type": "code",
   "execution_count": 31,
   "metadata": {},
   "outputs": [
    {
     "data": {
      "text/plain": [
       "97"
      ]
     },
     "execution_count": 31,
     "metadata": {},
     "output_type": "execute_result"
    }
   ],
   "source": [
    "ord('a')  # ord() func gives the output as number which is equ to ascii number"
   ]
  },
  {
   "cell_type": "code",
   "execution_count": 36,
   "metadata": {},
   "outputs": [
    {
     "name": "stdout",
     "output_type": "stream",
     "text": [
      "enter stringStRi\n"
     ]
    },
    {
     "data": {
      "text/plain": [
       "'same count'"
      ]
     },
     "execution_count": 36,
     "metadata": {},
     "output_type": "execute_result"
    }
   ],
   "source": [
    "# func to return the output as \"Same count\" or \"Programming\"\n",
    "# Same count -- lower and upper case chars has same count\n",
    "# programming -- count of upper and lower case is not same\n",
    "\n",
    "# example 1 : --- 3 P T O\n",
    "#              --- 3 y h n\n",
    "# output : same count\n",
    "# example 2 : -- 2 P N\n",
    "#             -- 4 y t h o\n",
    "# output : programming\n",
    "\n",
    "def sameProgramming(s):\n",
    "    lower = 0\n",
    "    upper = 0\n",
    "    for i in range(len(s)):\n",
    "        if ord(s[i]) >= 65 and ord(s[i]) <= 90:\n",
    "                lower = lower + 1\n",
    "        elif ord(s[i]) >= 97 and ord(s[i]) <= 122:\n",
    "            upper = upper + 1\n",
    "    if upper == lower:\n",
    "        return \"same count\"\n",
    "    else:\n",
    "        return \"programming\"\n",
    "sameProgramming(input('enter string'))"
   ]
  },
  {
   "cell_type": "code",
   "execution_count": 41,
   "metadata": {},
   "outputs": [
    {
     "name": "stdout",
     "output_type": "stream",
     "text": [
      "enter stringAppli18cation89\n",
      "1 8 8 9 "
     ]
    }
   ],
   "source": [
    "# func to extract the digits from the string \n",
    "# example 1:\n",
    "# input : Appli18cation89\n",
    "# output : 1 8 8 9\n",
    "\n",
    "def exDigits(s):\n",
    "    for i in range(len(s)):\n",
    "        if ord(s[i]) >= 48 and ord(s[i]) <= 57:\n",
    "            print(s[i],end=' ')\n",
    "    return\n",
    "exDigits(input('enter string'))\n",
    "\n"
   ]
  },
  {
   "cell_type": "code",
   "execution_count": 45,
   "metadata": {},
   "outputs": [
    {
     "name": "stdout",
     "output_type": "stream",
     "text": [
      "enter stringappli18cation\n"
     ]
    },
    {
     "data": {
      "text/plain": [
       "9"
      ]
     },
     "execution_count": 45,
     "metadata": {},
     "output_type": "execute_result"
    }
   ],
   "source": [
    "# func to add the digits in the string\n",
    "\n",
    "# input : Appli18cation\n",
    "# output : 9 (8 + 1)\n",
    "\n",
    "def exDigits(s):\n",
    "    sum = 0\n",
    "    for i in range(len(s)):\n",
    "        if ord(s[i]) >= 48 and ord(s[i]) <= 57:\n",
    "            sum = sum + int(s[i])                    # (or) sum = sum + (ords[i]-48)\n",
    "    return sum\n",
    "exDigits(input('enter string'))"
   ]
  },
  {
   "cell_type": "code",
   "execution_count": 48,
   "metadata": {},
   "outputs": [
    {
     "name": "stdout",
     "output_type": "stream",
     "text": [
      "MADE"
     ]
    }
   ],
   "source": [
    "# func to 2nd word in upper case\n",
    "# example 1:\n",
    "# input : Python Made Easy\n",
    "# output : MADE\n",
    "\n",
    "# example 2:\n",
    "# input : Learn Python Strings\n",
    "# output : PYTHON\n",
    "\n",
    "def upperCase(s):\n",
    "    cntspace = 0\n",
    "    for i in range(len(s)):\n",
    "        if ord(s[i]) == 32:\n",
    "            cntspace += 1\n",
    "        if cntspace == 1:\n",
    "            if ord(s[i]) >= 65 and ord(s[i]) <= 90:\n",
    "                print(s[i],end='')\n",
    "            elif ord(s[i]) >= 97 and ord(s[i]) <= 122:\n",
    "                print(chr(ord(s[i])-32),end='')\n",
    "        if cntspace == 2:\n",
    "            break\n",
    "    return\n",
    "upperCase('Python Made Easy')"
   ]
  },
  {
   "cell_type": "markdown",
   "metadata": {},
   "source": [
    "### List\n",
    "- one of the Data structure in Python\n",
    "- Data structure means to store , sort and search options\n",
    "- it's one common data structure in python , the items of list seperated by comma and enclosed in square brackets[]\n",
    "   - example\n",
    "        - List1 = [1,2,3,4]\n",
    "        - List2 = [\"Gitam\",1,2,3]"
   ]
  },
  {
   "cell_type": "code",
   "execution_count": 52,
   "metadata": {},
   "outputs": [
    {
     "name": "stdout",
     "output_type": "stream",
     "text": [
      "[1, 2, 3, 4, 5]\n",
      "1\n",
      "2\n",
      "5\n",
      "4\n",
      "[3, 4, 5]\n",
      "[1, 2]\n"
     ]
    }
   ],
   "source": [
    "li = [1,2,3,4,5]\n",
    "print(li)           # will print all the items\n",
    "print(li[0])        # will print first item\n",
    "print(li[1])        # will print second item\n",
    "print(li[-1])       # access last item from the list\n",
    "print(li[-2])       # access last second item from the list\n",
    "print(li[2:])\n",
    "print(li[:2])"
   ]
  },
  {
   "cell_type": "code",
   "execution_count": 54,
   "metadata": {},
   "outputs": [
    {
     "name": "stdout",
     "output_type": "stream",
     "text": [
      "['Gitam', 1234, 2019, 2018, 'Vizag']\n",
      "['Gitam', 1567, 2019, 2018, 'Vizag']\n"
     ]
    }
   ],
   "source": [
    "li = [\"Gitam\",1234,2019,2018,\"Vizag\"]\n",
    "print(li)\n",
    "# update the list item with value using index\n",
    "li[1] = 1567\n",
    "print(li)"
   ]
  },
  {
   "cell_type": "code",
   "execution_count": 55,
   "metadata": {},
   "outputs": [
    {
     "name": "stdout",
     "output_type": "stream",
     "text": [
      "['Gitam', 1567, 2019, 'Vizag']\n"
     ]
    }
   ],
   "source": [
    "# deleting the list item\n",
    "del li[3]\n",
    "print(li)"
   ]
  },
  {
   "cell_type": "code",
   "execution_count": 56,
   "metadata": {},
   "outputs": [
    {
     "name": "stdout",
     "output_type": "stream",
     "text": [
      "5\n",
      "[1, 2, 3, 4, 5, 1, 2, 3, 4, 5]\n",
      "True\n",
      "False\n",
      "1 2 3 4 5 \n",
      "1 2 3 4 5 "
     ]
    }
   ],
   "source": [
    "# basic list operations\n",
    "li =[1,2,3,4,5]\n",
    "# len of the list\n",
    "print(len(li))\n",
    "# list repitation\n",
    "print(li * 2)\n",
    "# to know certain item is present in the list or not\n",
    "print(4 in li)\n",
    "print(10 in li)\n",
    "# access the list items from the iterations\n",
    "# 1 way to define\n",
    "for i in range(len(li)):\n",
    "    print(li[i],end=' ')\n",
    "print()\n",
    "# 2 way to print the list items\n",
    "for i in li:\n",
    "    print(i,end=' ')"
   ]
  },
  {
   "cell_type": "code",
   "execution_count": 57,
   "metadata": {},
   "outputs": [
    {
     "name": "stdout",
     "output_type": "stream",
     "text": [
      "25\n",
      "1\n",
      "56\n",
      "11\n"
     ]
    }
   ],
   "source": [
    "# basic list func\n",
    "li = [1,9,16,25,5]\n",
    "print(max(li))      # max number of the list\n",
    "print(min(li))      # min number of the list\n",
    "print(sum(li))      # sum of all elements in list\n",
    "print(sum(li)//len(li))  # avg of list items"
   ]
  },
  {
   "cell_type": "code",
   "execution_count": 1,
   "metadata": {},
   "outputs": [
    {
     "name": "stdout",
     "output_type": "stream",
     "text": [
      "[1, 9, 56, 16, 25, 5, 29]\n"
     ]
    }
   ],
   "source": [
    "# methods of list\n",
    "li = [1,9,16,25,5]\n",
    "li.append(29)      # add the new item at the end of list\n",
    "li.insert(2,56)    # insert 56 in 2nd index\n",
    "print(li)"
   ]
  },
  {
   "cell_type": "code",
   "execution_count": 2,
   "metadata": {},
   "outputs": [
    {
     "name": "stdout",
     "output_type": "stream",
     "text": [
      "[1, 9, 16, 25, 29]\n"
     ]
    }
   ],
   "source": [
    "# method of list objects\n",
    "li.sort()    # sorts the list in ascending order\n",
    "li.pop()     # last index value\n",
    "li.pop(1)    # removes the item in specified index value\n",
    "print(li)"
   ]
  },
  {
   "cell_type": "code",
   "execution_count": 4,
   "metadata": {},
   "outputs": [
    {
     "name": "stdout",
     "output_type": "stream",
     "text": [
      "45\n",
      "22\n"
     ]
    }
   ],
   "source": [
    "# function to return the large number from the list\n",
    "def largeNum(li):\n",
    "    li.sort()\n",
    "    return li[-1]\n",
    "def genericLarge(li,n):\n",
    "    li.sort()\n",
    "    return li[-n]\n",
    "li = [19,1,25,6,9,45,22]\n",
    "print(largeNum(li))\n",
    "print(genericLarge(li,3))"
   ]
  },
  {
   "cell_type": "code",
   "execution_count": 5,
   "metadata": {},
   "outputs": [
    {
     "name": "stdout",
     "output_type": "stream",
     "text": [
      "1\n",
      "19\n"
     ]
    }
   ],
   "source": [
    "# function to find least and generic least number from the list\n",
    "def leastNum(li):\n",
    "    li.sort()\n",
    "    return li[0]\n",
    "def genericLeast(li,n):\n",
    "    li.sort()\n",
    "    return li[n]\n",
    "li = [19,1,25,6,9,45,22]\n",
    "print(leastNum(li))\n",
    "print(genericLeast(li,3))"
   ]
  },
  {
   "cell_type": "markdown",
   "metadata": {},
   "source": [
    "### File Handling in Python"
   ]
  },
  {
   "cell_type": "markdown",
   "metadata": {},
   "source": [
    "- File -Document which contains some information and reside on permanent devices\n",
    "- Different types of files--.txt,.pdf,.doc,.ppf and etc\n",
    "- input-- keyboard\n",
    "- output - file system"
   ]
  },
  {
   "cell_type": "code",
   "execution_count": 6,
   "metadata": {},
   "outputs": [
    {
     "name": "stdout",
     "output_type": "stream",
     "text": [
      "enter the file namedata.txt\n",
      "File is successfully created and data is inserted\n"
     ]
    }
   ],
   "source": [
    "# func to create file and and write some data to the file\n",
    "#Mode --w(i creates the file and write to the same data)\n",
    "#          if the file already exists with same name then it will rewrite the data\n",
    "def createFile(filename):\n",
    "    f = open(filename,'w')\n",
    "    for i in range(10):\n",
    "        f.write('This is %d line \\n'% i)\n",
    "    print('File is successfully created and data is inserted')\n",
    "    return\n",
    "createFile(input('enter the file name'))"
   ]
  },
  {
   "cell_type": "code",
   "execution_count": 7,
   "metadata": {},
   "outputs": [
    {
     "data": {
      "text/plain": [
       "'C:\\\\Users\\\\Chandu\\\\Desktop\\\\problem solving and programming'"
      ]
     },
     "execution_count": 7,
     "metadata": {},
     "output_type": "execute_result"
    }
   ],
   "source": [
    "pwd"
   ]
  },
  {
   "cell_type": "code",
   "execution_count": 9,
   "metadata": {},
   "outputs": [
    {
     "name": "stdout",
     "output_type": "stream",
     "text": [
      "Program completed successfully\n"
     ]
    }
   ],
   "source": [
    "def appendMode(filename):\n",
    "    f = open(filename,'a')\n",
    "    f.write('Gitam Vizag\\n')\n",
    "    f.write('Python Programming\\n')\n",
    "    print('Program completed successfully')\n",
    "    return\n",
    "appendMode('data.txt')\n",
    "        "
   ]
  },
  {
   "cell_type": "code",
   "execution_count": 10,
   "metadata": {},
   "outputs": [
    {
     "name": "stdout",
     "output_type": "stream",
     "text": [
      "This is 0 line \n",
      "This is 1 line \n",
      "This is 2 line \n",
      "This is 3 line \n",
      "This is 4 line \n",
      "This is 5 line \n",
      "This is 6 line \n",
      "This is 7 line \n",
      "This is 8 line \n",
      "This is 9 line \n",
      "Gitam Vizag\n",
      "Python Programming\n",
      "\n"
     ]
    }
   ],
   "source": [
    "# func to read the file\n",
    "def readFileData(filename):\n",
    "    f = open(filename,'r')\n",
    "    if f.mode == 'r':\n",
    "        a = f.read()\n",
    "        print(a)\n",
    "    f.close()\n",
    "    return\n",
    "readFileData('Data.txt')"
   ]
  },
  {
   "cell_type": "code",
   "execution_count": 12,
   "metadata": {},
   "outputs": [
    {
     "name": "stdout",
     "output_type": "stream",
     "text": [
      "['Python', 'Programming']\n"
     ]
    }
   ],
   "source": [
    "# analysis on the file -- word count, char count , digit count\n",
    "s1 = \"Python Programming\"\n",
    "print(s1.split())"
   ]
  },
  {
   "cell_type": "code",
   "execution_count": 13,
   "metadata": {},
   "outputs": [
    {
     "data": {
      "text/plain": [
       "44"
      ]
     },
     "execution_count": 13,
     "metadata": {},
     "output_type": "execute_result"
    }
   ],
   "source": [
    "# word count -- input file\n",
    "def wordCount(filename):\n",
    "    with open(filename,'r') as f:\n",
    "        if f.mode == 'r':\n",
    "            a = f.read()\n",
    "            li = a.split()  # divide the words by using white spaces\n",
    "    return len(li)\n",
    "wordCount('data.txt')"
   ]
  },
  {
   "cell_type": "code",
   "execution_count": 15,
   "metadata": {},
   "outputs": [
    {
     "data": {
      "text/plain": [
       "10"
      ]
     },
     "execution_count": 15,
     "metadata": {},
     "output_type": "execute_result"
    }
   ],
   "source": [
    "# specific word count from the file\n",
    "# example 1:\n",
    "# input : this\n",
    "# output : 10\n",
    "\n",
    "# example 2:\n",
    "# input : Gitam\n",
    "# output : 1\n",
    "\n",
    "def specificWordCnt(filename,word):\n",
    "    with open(filename,'r') as f:\n",
    "        if f.mode == 'r':\n",
    "            a = f.read()\n",
    "            li = a.split()\n",
    "    return li.count(word)\n",
    "specificWordCnt('data.txt','This')\n",
    "\n"
   ]
  },
  {
   "cell_type": "code",
   "execution_count": 16,
   "metadata": {},
   "outputs": [
    {
     "data": {
      "text/plain": [
       "191"
      ]
     },
     "execution_count": 16,
     "metadata": {},
     "output_type": "execute_result"
    }
   ],
   "source": [
    "# func to find the character count from the input file\n",
    "def charCount(filename):\n",
    "    with open(filename,'r') as f:\n",
    "        if f.mode == 'r':\n",
    "            a = f.read()\n",
    "            li = list(a)\n",
    "    return len(li)\n",
    "charCount('data.txt')"
   ]
  },
  {
   "cell_type": "code",
   "execution_count": 18,
   "metadata": {},
   "outputs": [
    {
     "name": "stdout",
     "output_type": "stream",
     "text": [
      "['P', 'y', 't', 'h', 'o', 'n', ' ', 'P', 'r', 'o', 'g', 'r', 'a', 'm', 'm', 'i', 'n', 'g']\n"
     ]
    }
   ],
   "source": [
    "a = \"Python Programming\"\n",
    "li = list(a)\n",
    "print(li)"
   ]
  },
  {
   "cell_type": "code",
   "execution_count": 19,
   "metadata": {},
   "outputs": [
    {
     "data": {
      "text/plain": [
       "13"
      ]
     },
     "execution_count": 19,
     "metadata": {},
     "output_type": "execute_result"
    }
   ],
   "source": [
    "# find no of lines or rows in the given input stream\n",
    "def findLineCount(filename):\n",
    "    with open(filename,'r') as f:\n",
    "        if f.mode == 'r':\n",
    "            a = f.read()\n",
    "            li = a.split('\\n')\n",
    "    return len(li)\n",
    "findLineCount('data.txt')\n",
    "            "
   ]
  },
  {
   "cell_type": "code",
   "execution_count": 1,
   "metadata": {},
   "outputs": [],
   "source": [
    "def caseCount(filename):\n",
    "    cntupper = 0\n",
    "    cntlower = 0\n",
    "    cntdigit = 0\n",
    "    with open(filename,'r') as f:\n",
    "        if f.mode == 'r':\n",
    "            a = f.read()\n",
    "            li = list(a)\n",
    "    for i in range(len(li)):\n",
    "        if ord(li[i]) >= 65 and ord(li[i]) <=90:\n",
    "            cntupper += 1\n",
    "        elif ord(li[i]) >= 97 and ord(li[i]) <=122:\n",
    "            cntlower += 1\n",
    "        "
   ]
  },
  {
   "cell_type": "code",
   "execution_count": 4,
   "metadata": {},
   "outputs": [
    {
     "ename": "SyntaxError",
     "evalue": "can't assign to function call (<ipython-input-4-a975849de3b6>, line 3)",
     "output_type": "error",
     "traceback": [
      "\u001b[1;36m  File \u001b[1;32m\"<ipython-input-4-a975849de3b6>\"\u001b[1;36m, line \u001b[1;32m3\u001b[0m\n\u001b[1;33m    ord(s[i]) += 1\u001b[0m\n\u001b[1;37m    ^\u001b[0m\n\u001b[1;31mSyntaxError\u001b[0m\u001b[1;31m:\u001b[0m can't assign to function call\n"
     ]
    }
   ],
   "source": [
    "def evenSum(s):\n",
    "    sum = 0\n",
    "    for i in range(len(s)):\n",
    "        if ord(s[i]) >= 48 and ord(s[i]) <= 57:\n",
    "            sum = sum + int(s[i])                    # (or) sum = sum + (ords[i]-48)\n",
    "    return sum\n",
    "evenSum(input('enter string'))"
   ]
  },
  {
   "cell_type": "code",
   "execution_count": 9,
   "metadata": {},
   "outputs": [
    {
     "name": "stdout",
     "output_type": "stream",
     "text": [
      "enter stringorange\n",
      "p\n",
      "s\n",
      "b\n",
      "o\n",
      "h\n",
      "f\n"
     ]
    }
   ],
   "source": [
    "def nxtC(s):\n",
    "    for i in range(len(s)):\n",
    "        if ord(s[i]) >= 97 and ord(s[i]) <= 122:\n",
    "            print(chr(ord(s[i])+1))\n",
    "nxtC(input('enter string'))"
   ]
  },
  {
   "cell_type": "markdown",
   "metadata": {},
   "source": []
  }
 ],
 "metadata": {
  "kernelspec": {
   "display_name": "Python 3",
   "language": "python",
   "name": "python3"
  },
  "language_info": {
   "codemirror_mode": {
    "name": "ipython",
    "version": 3
   },
   "file_extension": ".py",
   "mimetype": "text/x-python",
   "name": "python",
   "nbconvert_exporter": "python",
   "pygments_lexer": "ipython3",
   "version": "3.7.3"
  }
 },
 "nbformat": 4,
 "nbformat_minor": 2
}
