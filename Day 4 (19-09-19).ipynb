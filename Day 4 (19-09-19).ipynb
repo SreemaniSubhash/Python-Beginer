{
 "cells": [
  {
   "cell_type": "markdown",
   "metadata": {},
   "source": [
    "### String Boolean Function\n",
    "- True or false\n",
    "- islower() - true if the string have all characters lower case\n",
    "- isupper() - true if the string have all characters upper case"
   ]
  },
  {
   "cell_type": "code",
   "execution_count": 1,
   "metadata": {},
   "outputs": [
    {
     "name": "stdout",
     "output_type": "stream",
     "text": [
      "True\n",
      "False\n"
     ]
    }
   ],
   "source": [
    "s1 = \"python\"\n",
    "print(s1.islower())\n",
    "print(s1.isupper())"
   ]
  },
  {
   "cell_type": "code",
   "execution_count": 3,
   "metadata": {},
   "outputs": [
    {
     "name": "stdout",
     "output_type": "stream",
     "text": [
      "False\n"
     ]
    }
   ],
   "source": [
    "s1 = \"Python Programming\"        \n",
    "print(s1.istitle())                 # it check wheter the first char in every word is capital or not"
   ]
  },
  {
   "cell_type": "code",
   "execution_count": 10,
   "metadata": {},
   "outputs": [
    {
     "name": "stdout",
     "output_type": "stream",
     "text": [
      "True\n",
      "False\n"
     ]
    }
   ],
   "source": [
    "s1 = \"12345678\"\n",
    "s2 = \"py1234\"\n",
    "print(s1.isnumeric())               # it check whether whole string is numeric or not \n",
    "print(s2.isnumeric())"
   ]
  },
  {
   "cell_type": "code",
   "execution_count": 8,
   "metadata": {},
   "outputs": [
    {
     "name": "stdout",
     "output_type": "stream",
     "text": [
      "False\n",
      "False\n"
     ]
    }
   ],
   "source": [
    "s1 = \"pythonprogram\"\n",
    "s2 = \"py123\"\n",
    "print(s1.isalpha())                 # it check whether whole string is alphabets or not\n",
    "print(s2.isalpha())"
   ]
  },
  {
   "cell_type": "code",
   "execution_count": 12,
   "metadata": {},
   "outputs": [
    {
     "name": "stdout",
     "output_type": "stream",
     "text": [
      "False\n",
      "True\n"
     ]
    }
   ],
   "source": [
    "s1 = \"python programming\"\n",
    "s2 = \"  \"\n",
    "print(s1.isspace())                  # prints true when whole string is space \n",
    "print(s2.isspace())"
   ]
  },
  {
   "cell_type": "markdown",
   "metadata": {},
   "source": [
    "### String Methods"
   ]
  },
  {
   "cell_type": "code",
   "execution_count": 15,
   "metadata": {},
   "outputs": [
    {
     "name": "stdout",
     "output_type": "stream",
     "text": [
      "['python', 'is', 'a', 'programming', 'language']\n"
     ]
    }
   ],
   "source": [
    "# split() - splits a string seperated with white spaces\n",
    "# split(a) - splits a string with the alphabet mentioned\n",
    "\n",
    "s1 = \"python is a programming language\"\n",
    "li = s1.split( )\n",
    "print(li)"
   ]
  },
  {
   "cell_type": "code",
   "execution_count": 18,
   "metadata": {},
   "outputs": [
    {
     "name": "stdout",
     "output_type": "stream",
     "text": [
      "['python is ', ' progr', 'mming l', 'ngu', 'ge']\n"
     ]
    }
   ],
   "source": [
    "s1 = \"python is a programming language\"\n",
    "li = s1.split('a')\n",
    "print(li)"
   ]
  },
  {
   "cell_type": "code",
   "execution_count": 20,
   "metadata": {},
   "outputs": [
    {
     "name": "stdout",
     "output_type": "stream",
     "text": [
      "pyth0n pr0gramming\n"
     ]
    }
   ],
   "source": [
    "# replace() - places a char with a given char\n",
    "\n",
    "s1 = \"python programming\"\n",
    "print(s1.replace('o','0'))"
   ]
  },
  {
   "cell_type": "code",
   "execution_count": 23,
   "metadata": {},
   "outputs": [
    {
     "name": "stdout",
     "output_type": "stream",
     "text": [
      "p2y2t2h2o2n2 2p2r2o2g2r2a2m2m2i2n2g\n",
      "p y t h o n   p r o g r a m m i n g\n",
      "p-y-t-h-o-n- -p-r-o-g-r-a-m-m-i-n-g\n"
     ]
    }
   ],
   "source": [
    "# join() - concatination of two strings\n",
    "\n",
    "s1 = \"python programming\"\n",
    "print(\"2\".join(s1))\n",
    "print(\" \".join(s1))\n",
    "print(\"-\".join(s1))"
   ]
  },
  {
   "cell_type": "markdown",
   "metadata": {},
   "source": [
    "### String Formatting\n",
    "- classic version\n",
    "- current version Python"
   ]
  },
  {
   "cell_type": "code",
   "execution_count": 24,
   "metadata": {},
   "outputs": [
    {
     "name": "stdout",
     "output_type": "stream",
     "text": [
      "Python Programming\n"
     ]
    }
   ],
   "source": [
    "# classic version (c or c++)\n",
    "li = [\"Python\",\"Programming\"]\n",
    "print('%s %s' % (li[0],li[1]))"
   ]
  },
  {
   "cell_type": "code",
   "execution_count": 25,
   "metadata": {},
   "outputs": [
    {
     "name": "stdout",
     "output_type": "stream",
     "text": [
      "1 2 3 4\n"
     ]
    }
   ],
   "source": [
    "li = [1,2,3,4]\n",
    "print('%d %d %d %d' % (li[0],li[1],li[2],li[3]))"
   ]
  },
  {
   "cell_type": "code",
   "execution_count": 27,
   "metadata": {},
   "outputs": [
    {
     "name": "stdout",
     "output_type": "stream",
     "text": [
      "list item 0 : Python \n",
      "list item 1 : Programming\n"
     ]
    }
   ],
   "source": [
    "# format\n",
    "li =  [\"Python\",\"Programming\"]\n",
    "print(\"list item 0 : {0} \\nlist item 1 : {1}\".format(li[0],li[1]))"
   ]
  },
  {
   "cell_type": "code",
   "execution_count": 32,
   "metadata": {},
   "outputs": [
    {
     "name": "stdout",
     "output_type": "stream",
     "text": [
      "23 2 3 4\n"
     ]
    }
   ],
   "source": [
    "li = [23,2,3,4]\n",
    "print('{0} {1} {2} {3}'.format(li[0],li[1],li[2],li[3]))"
   ]
  },
  {
   "cell_type": "markdown",
   "metadata": {},
   "source": [
    "### Data Structures\n",
    "- List\n",
    "- Tuples\n",
    "- Dictionaries"
   ]
  },
  {
   "cell_type": "markdown",
   "metadata": {},
   "source": [
    "### Dictionaries\n",
    "- it works on concept of unique Data\n",
    "- key, value is the unique identifer a value\n",
    "- each key is seperated from a value colon (:)\n",
    "- each key and value is seperated by comma (,)\n",
    "- Dictionaries are enclosed with curly brackets ({})"
   ]
  },
  {
   "cell_type": "code",
   "execution_count": 33,
   "metadata": {},
   "outputs": [
    {
     "name": "stdout",
     "output_type": "stream",
     "text": [
      "{'Name': 'Subhash', 'EmailID': 'sreemanisubhash@gmail.com', 'place': 'vizag'}\n"
     ]
    }
   ],
   "source": [
    "d1 = {\"Name\":\"Subhash\",\"EmailID\":\"sreemanisubhash@gmail.com\",\"place\":\"vizag\"}\n",
    "print(d1)"
   ]
  },
  {
   "cell_type": "code",
   "execution_count": 35,
   "metadata": {},
   "outputs": [
    {
     "data": {
      "text/plain": [
       "'sreemanisubhash@gmail.com'"
      ]
     },
     "execution_count": 35,
     "metadata": {},
     "output_type": "execute_result"
    }
   ],
   "source": [
    "d1[\"EmailID\"]                          # accessing specific key value"
   ]
  },
  {
   "cell_type": "code",
   "execution_count": 37,
   "metadata": {},
   "outputs": [],
   "source": [
    "d1[\"Name\"] = \"Sreemani Subhash\"        # modifying value using key "
   ]
  },
  {
   "cell_type": "code",
   "execution_count": 38,
   "metadata": {},
   "outputs": [
    {
     "data": {
      "text/plain": [
       "'Sreemani Subhash'"
      ]
     },
     "execution_count": 38,
     "metadata": {},
     "output_type": "execute_result"
    }
   ],
   "source": [
    "d1[\"Name\"]"
   ]
  },
  {
   "cell_type": "code",
   "execution_count": 39,
   "metadata": {},
   "outputs": [
    {
     "data": {
      "text/plain": [
       "dict_keys(['Name', 'EmailID', 'place'])"
      ]
     },
     "execution_count": 39,
     "metadata": {},
     "output_type": "execute_result"
    }
   ],
   "source": [
    "d1.keys()                              # all the keys of dict obj\n",
    "# (or)\n",
    "# li = d1.keys()\n",
    "# print(li)"
   ]
  },
  {
   "cell_type": "code",
   "execution_count": 40,
   "metadata": {},
   "outputs": [
    {
     "data": {
      "text/plain": [
       "dict_values(['Sreemani Subhash', 'sreemanisubhash@gmail.com', 'vizag'])"
      ]
     },
     "execution_count": 40,
     "metadata": {},
     "output_type": "execute_result"
    }
   ],
   "source": [
    "d1.values()                            # all the values of dict obj"
   ]
  },
  {
   "cell_type": "code",
   "execution_count": 41,
   "metadata": {},
   "outputs": [],
   "source": [
    "del d1[\"EmailID\"]                      # deletes only one key and value"
   ]
  },
  {
   "cell_type": "code",
   "execution_count": 42,
   "metadata": {},
   "outputs": [
    {
     "name": "stdout",
     "output_type": "stream",
     "text": [
      "{'Name': 'Sreemani Subhash', 'place': 'vizag'}\n"
     ]
    }
   ],
   "source": [
    "print(d1)"
   ]
  },
  {
   "cell_type": "code",
   "execution_count": 45,
   "metadata": {},
   "outputs": [],
   "source": [
    "del d1                                 # deletes the entire dict object "
   ]
  },
  {
   "cell_type": "markdown",
   "metadata": {},
   "source": [
    "### Contact Application\n",
    "- add contract details\n",
    "- searching contact\n",
    "- inserting new contact\n",
    "- modifying existing contact"
   ]
  },
  {
   "cell_type": "code",
   "execution_count": 48,
   "metadata": {},
   "outputs": [
    {
     "name": "stdout",
     "output_type": "stream",
     "text": [
      "contact details are successfully added\n",
      "contact details are successfully added\n",
      "Name is already exists\n"
     ]
    }
   ],
   "source": [
    "contacts = {}  # empty dict objects\n",
    "# lets create a func to add contact details\n",
    "def addContact(name,phone):         # name-key  , phone-value\n",
    "    if name not in contacts:  # cond to check name exists in contact or not\n",
    "        contacts[name] = phone        # assigning value to key\n",
    "        print('contact details are successfully added')\n",
    "    else:\n",
    "        print('Name is already exists')\n",
    "    return\n",
    "addContact('Kumar','9849536134')\n",
    "addContact('Subhash','9010085674')\n",
    "addContact('Kumar','9849536134')"
   ]
  },
  {
   "cell_type": "code",
   "execution_count": 57,
   "metadata": {},
   "outputs": [
    {
     "name": "stdout",
     "output_type": "stream",
     "text": [
      "Kumar  :  9849536134\n",
      "gitam not found\n",
      "Subhash  :  9010085674\n"
     ]
    }
   ],
   "source": [
    "# search contact\n",
    "def searchContact(name):\n",
    "    if name in contacts:\n",
    "        print(name, \" : \",contacts[name])\n",
    "    else:\n",
    "        print('%s not found' % name)\n",
    "        # (or) print('{0} does not present'.format(name))\n",
    "    return\n",
    "searchContact('Kumar')\n",
    "searchContact('gitam')\n",
    "searchContact('Subhash')"
   ]
  },
  {
   "cell_type": "code",
   "execution_count": 63,
   "metadata": {},
   "outputs": [
    {
     "name": "stdout",
     "output_type": "stream",
     "text": [
      "2 Contacts are added\n"
     ]
    }
   ],
   "source": [
    "# insert new contact details \n",
    "# merge previous details with new details\n",
    "def importContact(newContacts):\n",
    "    contacts.update(newContacts)\n",
    "    print(len(newContacts.keys()),'Contacts are added')\n",
    "    return\n",
    "newContacts = {'Gitam':9890345345, 'Anil':9812345677}\n",
    "importContact(newContacts)"
   ]
  },
  {
   "cell_type": "code",
   "execution_count": 62,
   "metadata": {},
   "outputs": [
    {
     "name": "stdout",
     "output_type": "stream",
     "text": [
      "Subhash updated successfully\n",
      "neeraj not exists\n"
     ]
    }
   ],
   "source": [
    "def modifyContact(name,phone):\n",
    "    if name in contacts:\n",
    "        contacts[name] = phone\n",
    "        print(name,'updated successfully')\n",
    "    else:\n",
    "        print(name,'not exists')\n",
    "    return\n",
    "modifyContact('Subhash',9849536134)\n",
    "modifyContact('neeraj',9010085674)\n"
   ]
  },
  {
   "cell_type": "code",
   "execution_count": 64,
   "metadata": {},
   "outputs": [
    {
     "name": "stdout",
     "output_type": "stream",
     "text": [
      "Subhash  :  9849536134\n"
     ]
    }
   ],
   "source": [
    "searchContact('Subhash')"
   ]
  },
  {
   "cell_type": "code",
   "execution_count": 67,
   "metadata": {},
   "outputs": [
    {
     "name": "stdout",
     "output_type": "stream",
     "text": [
      "Subhash deleted successfully\n",
      "jayakrishna not present\n"
     ]
    }
   ],
   "source": [
    "contacts = {'Subhash':9010085674}\n",
    "\n",
    "def deleteContact(name):\n",
    "    if name in contacts:\n",
    "        del contacts[name]\n",
    "        print(name,'deleted successfully')\n",
    "    else:\n",
    "        print(name,'not present')\n",
    "    return\n",
    "deleteContact('Subhash')\n",
    "deleteContact('jayakrishna')"
   ]
  },
  {
   "cell_type": "markdown",
   "metadata": {},
   "source": [
    "### Tuples\n",
    "- tuples enclosed with paranthesis\n",
    "\n",
    "### Differences between Tuples and List\n",
    "- Lists are mutable -- can be changed / modified\n",
    "   - read and write the data\n",
    "- Tuples are immutable -- can't be changed / modified\n",
    "   - read data only"
   ]
  },
  {
   "cell_type": "code",
   "execution_count": 68,
   "metadata": {},
   "outputs": [
    {
     "name": "stdout",
     "output_type": "stream",
     "text": [
      "(1, 2, 3, 4, 5)\n"
     ]
    }
   ],
   "source": [
    "t1 = (1,2,3,4,5)\n",
    "print(t1)"
   ]
  },
  {
   "cell_type": "markdown",
   "metadata": {},
   "source": [
    "### Standard Libraries\n",
    "- Regular Expressions\n",
    "   - To validate the Indian mobile network\n",
    "   - To validate the EmailID\n",
    "   - To valid the Username\n",
    "   - To validate the password\n",
    "- Understanding the Regular expressions\n",
    "   - [0-9] -- Any digit matching\n",
    "   - [a-z] -- Any lower case matching\n",
    "   - [A-Z] -- Any upper case matching\n",
    "   - cap symbol is used to represent the start of Regular expression\n",
    "   - Dollar symbol is used to represent the end of Regular expression"
   ]
  },
  {
   "cell_type": "code",
   "execution_count": 69,
   "metadata": {},
   "outputs": [
    {
     "name": "stdout",
     "output_type": "stream",
     "text": [
      "True\n",
      "False\n"
     ]
    }
   ],
   "source": [
    "# func to test the two digit number as input\n",
    "# true - input two digit number\n",
    "# false - input not a two digit number\n",
    "import re\n",
    "def twoDigitMatching(n):\n",
    "    pattern = '^[0-9]{2}$'\n",
    "    n = str(n)\n",
    "    if re.match(pattern,n):\n",
    "        return True\n",
    "    return False\n",
    "print(twoDigitMatching(12))  # true\n",
    "print(twoDigitMatching(123)) # false"
   ]
  },
  {
   "cell_type": "code",
   "execution_count": 73,
   "metadata": {},
   "outputs": [
    {
     "name": "stdout",
     "output_type": "stream",
     "text": [
      "True\n",
      "False\n",
      "False\n"
     ]
    }
   ],
   "source": [
    "# Regular expression for username\n",
    "# username -- should contains lower and upper case characters\n",
    "# length -- Min 5 Max 12\n",
    "def validateUsername(s):\n",
    "    pattern = '^[a-zA-Z]{5,12}$'\n",
    "    if re.match(pattern,s):\n",
    "        return True\n",
    "    return False\n",
    "print(validateUsername('Anilkumar'))     # true\n",
    "print(validateUsername('Anil'))          # false\n",
    "print(validateUsername('python prog'))   # false\n"
   ]
  },
  {
   "cell_type": "markdown",
   "metadata": {},
   "source": [
    "### Regular Expression for Indian Mobile\n",
    "- 10 Digit Number\n",
    "    - first number starts from [6-9]\n",
    "    - rest of the 9 numbers from [0-9]\n",
    "        -example - 9849536123 # true\n",
    "        -example - 4567890123 # false\n",
    "- 11 Digit Number\n",
    "    - first number can be 0\n",
    "    - second number can be [6-9]\n",
    "    - rest 9 numbers are from [0-9]\n",
    "        - example - 09849536123   # true\n",
    "        - example - 99345637323   # false\n",
    "- 13 Digit Number\n",
    "    - first digit +\n",
    "    - second digit 9\n",
    "    - third digit is from [6-9]\n",
    "    - rest all are from [0-9]"
   ]
  },
  {
   "cell_type": "code",
   "execution_count": 1,
   "metadata": {},
   "outputs": [],
   "source": [
    "# rule 1: ^[6-9][0-9]{9}$\n",
    "# rule 2: ^[0][6-9][0-9]{9}$\n",
    "# rule 3: ^[+][9][6-9][0-9]{9}$"
   ]
  },
  {
   "cell_type": "code",
   "execution_count": 12,
   "metadata": {},
   "outputs": [
    {
     "name": "stdout",
     "output_type": "stream",
     "text": [
      "enter indian phone9010085612\n"
     ]
    },
    {
     "data": {
      "text/plain": [
       "True"
      ]
     },
     "execution_count": 12,
     "metadata": {},
     "output_type": "execute_result"
    }
   ],
   "source": [
    "import re\n",
    "def validateIndianPhone(n):\n",
    "    pattern = '^[6-9][0-9]{9}$|^[0][6-9][0-9]{9}$|^[+][9][6-9][0-9]{9}$'\n",
    "    n = str(n)\n",
    "    if re.match(pattern,n):\n",
    "        return True\n",
    "    else:\n",
    "        return False\n",
    "validateIndianPhone(input('enter indian phone'))"
   ]
  },
  {
   "cell_type": "markdown",
   "metadata": {},
   "source": [
    "### Validate EmailID\n",
    "- Username :\n",
    "    - length of string will be [6-15]\n",
    "    - no special characters except underscore(_)\n",
    "    - Username should not begin with underscore\n",
    "    - all character set (digits , lower case and upper case)\n",
    "        - example : Anil_1889\n",
    "- DomainName\n",
    "    - length of string will be [3-18]\n",
    "    - no spl characters\n",
    "    - character set will be Digits, lower case and upper case\n",
    "        - Examples : gmail, hotmail, rediff and etc...\n",
    "- Extenstions\n",
    "    - length of string [2-4]\n",
    "    - no spl characters allowed\n",
    "    - character set will be lower case characters \n",
    "            "
   ]
  },
  {
   "cell_type": "code",
   "execution_count": 15,
   "metadata": {},
   "outputs": [
    {
     "name": "stdout",
     "output_type": "stream",
     "text": [
      "Enter your Email ID\tsreemanisubhash@gmail.com\n"
     ]
    },
    {
     "data": {
      "text/plain": [
       "True"
      ]
     },
     "execution_count": 15,
     "metadata": {},
     "output_type": "execute_result"
    }
   ],
   "source": [
    "# Username : ^[0-9a-zA-Z][0-9a-zA-Z_.]{5,14}$\n",
    "# DomainName : ^[a-z0-9]{3,18}$\n",
    "# Extenstions : ^[a-z]{2,4}$\n",
    "\n",
    "#EmailID : ^[0-9a-zA-Z][0-9a-zA-Z_.]{5,14}[@][a-z0-9]{3,18}[.][a-z]{2,4}$\n",
    "\n",
    "def validateEmail(email):\n",
    "    pattern = '^[0-9a-zA-Z][0-9a-zA-Z_.]{5,14}[@][a-z0-9]{3,18}[.][a-z]{2,4}$'\n",
    "    if re.match(pattern,email):\n",
    "        return True\n",
    "    else:\n",
    "        False\n",
    "validateEmail(input('Enter your Email ID\\t'))"
   ]
  },
  {
   "cell_type": "markdown",
   "metadata": {},
   "source": [
    "### Python Graphics\n",
    "- Lib  - Turtle"
   ]
  },
  {
   "cell_type": "markdown",
   "metadata": {},
   "source": [
    "## Package , Module and Sub package\n",
    "### Package\n",
    "    - A collection of modules ( single python file.py)\n",
    "    \n",
    "### Module\n",
    "    - A single python file contains group of functions\n",
    "    \n",
    "### Package -> Sub-package -> Module -> function -> statements"
   ]
  },
  {
   "cell_type": "code",
   "execution_count": 16,
   "metadata": {},
   "outputs": [
    {
     "data": {
      "text/plain": [
       "123"
      ]
     },
     "execution_count": 16,
     "metadata": {},
     "output_type": "execute_result"
    }
   ],
   "source": [
    "import math             # imports all the functions into python program \n",
    "math.floor(123.456)"
   ]
  },
  {
   "cell_type": "code",
   "execution_count": 17,
   "metadata": {},
   "outputs": [
    {
     "data": {
      "text/plain": [
       "124"
      ]
     },
     "execution_count": 17,
     "metadata": {},
     "output_type": "execute_result"
    }
   ],
   "source": [
    "math.ceil(123.456)"
   ]
  },
  {
   "cell_type": "code",
   "execution_count": 19,
   "metadata": {},
   "outputs": [
    {
     "data": {
      "text/plain": [
       "120"
      ]
     },
     "execution_count": 19,
     "metadata": {},
     "output_type": "execute_result"
    }
   ],
   "source": [
    "from math import factorial as fact      # will imports only specific function \n",
    "# as fact alias name\n",
    "fact(5)"
   ]
  },
  {
   "cell_type": "code",
   "execution_count": 21,
   "metadata": {},
   "outputs": [
    {
     "data": {
      "text/plain": [
       "5"
      ]
     },
     "execution_count": 21,
     "metadata": {},
     "output_type": "execute_result"
    }
   ],
   "source": [
    "from math import gcd as gcd\n",
    "gcd(10,15)"
   ]
  },
  {
   "cell_type": "code",
   "execution_count": 25,
   "metadata": {},
   "outputs": [
    {
     "name": "stdout",
     "output_type": "stream",
     "text": [
      "60 65 82 5 90 53 69 81 87 96 "
     ]
    }
   ],
   "source": [
    "#Import random package\n",
    "import random\n",
    "# func to generate the the N numbers in given range\n",
    "def generateRandNum(n,lb,ub):\n",
    "    for i in range (0,n):\n",
    "        print(random.randint(lb,ub),end=' ')\n",
    "    return\n",
    "generateRandNum(20,0,1000)"
   ]
  },
  {
   "cell_type": "code",
   "execution_count": 26,
   "metadata": {},
   "outputs": [],
   "source": [
    "# create a simple game\n",
    "# try to generate 20 numbers\n",
    "# Input : Number\n",
    "# Present : congrats!\n",
    "# Not Present : try again "
   ]
  },
  {
   "cell_type": "code",
   "execution_count": 30,
   "metadata": {},
   "outputs": [
    {
     "name": "stdout",
     "output_type": "stream",
     "text": [
      "enter a number\t5\n",
      "Try Again!!!\n"
     ]
    }
   ],
   "source": [
    "from random import randint as rdint\n",
    "def generateNumber(n,lb,ub):\n",
    "    li = []\n",
    "    for i in range(0,n):\n",
    "        li.append(rdint(lb,ub))\n",
    "    return li\n",
    "def check(n):\n",
    "    li = generateNumber(1,0,9)\n",
    "    if n in li:\n",
    "        print('congrats!!!')\n",
    "    else:\n",
    "        print('Try Again!!!')\n",
    "    return\n",
    "check(int(input('enter a number\\t')))"
   ]
  },
  {
   "cell_type": "code",
   "execution_count": null,
   "metadata": {},
   "outputs": [],
   "source": [
    "# draw the line reverse direction\n",
    "import turtle as tt\n",
    "a1 = tt.Turtle()\n",
    "a1.backward(150)\n",
    "tt.done()\n"
   ]
  },
  {
   "cell_type": "code",
   "execution_count": null,
   "metadata": {},
   "outputs": [],
   "source": []
  }
 ],
 "metadata": {
  "kernelspec": {
   "display_name": "Python 3",
   "language": "python",
   "name": "python3"
  },
  "language_info": {
   "codemirror_mode": {
    "name": "ipython",
    "version": 3
   },
   "file_extension": ".py",
   "mimetype": "text/x-python",
   "name": "python",
   "nbconvert_exporter": "python",
   "pygments_lexer": "ipython3",
   "version": "3.7.3"
  }
 },
 "nbformat": 4,
 "nbformat_minor": 2
}
